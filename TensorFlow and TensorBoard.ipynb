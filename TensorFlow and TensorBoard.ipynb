{
 "cells": [
  {
   "cell_type": "markdown",
   "metadata": {},
   "source": [
    "![](https://i.ytimg.com/vi/pJt6erSOnm0/maxresdefault.jpg)"
   ]
  },
  {
   "cell_type": "markdown",
   "metadata": {},
   "source": [
    "Hello there, I would like to show you a nice little thing Tensorflow has in this pocket : TensorBoard.\n",
    "\n",
    "For those who don't know, this is tool that show you in real time how your Deep Learning model, or models, perform in your browser. I found that very useful, you can have some nice dashboard. Moreover il you need to explain your model to your co_worker, non familiar with Deep Learnig or even Data Science, this is the perfect tool to explain quickly and efficiently. \n",
    "\n",
    "But before that, I will import some database and build my model, and after I will explain how to setup and use TensorBoard.\n",
    "\n",
    "For now, I give you the link to TensorBoard : https://www.tensorflow.org/tensorboard/"
   ]
  },
  {
   "cell_type": "markdown",
   "metadata": {},
   "source": [
    "<div class=\"list-group\" id=\"list-tab\" role=\"tablist\">\n",
    "  <h1 class=\"list-group-item list-group-item-action active\" data-toggle=\"list\"  role=\"tab\" aria-controls=\"home\">&nbsp;Table of Contents:</h1>\n",
    "  <a class=\"list-group-item list-group-item-action\" data-toggle=\"list\" href=\"#1\" role=\"tab\" aria-controls=\"profile\">Import packages<span class=\"badge badge-primary badge-pill\">1</span></a>\n",
    "  <a class=\"list-group-item list-group-item-action\" data-toggle=\"list\" href=\"#2\" role=\"tab\" aria-controls=\"messages\">Loading your own data<span class=\"badge badge-primary badge-pill\">2</span></a>\n",
    "  <a class=\"list-group-item list-group-item-action\"  data-toggle=\"list\" href=\"#3\" role=\"tab\" aria-controls=\"settings\">First Deep Learning model<span class=\"badge badge-primary badge-pill\">3</span></a>\n",
    "  <a class=\"list-group-item list-group-item-action\"  data-toggle=\"list\" href=\"#4\" role=\"tab\" aria-controls=\"settings\"> Analysing model with TensorBoard<span class=\"badge badge-primary badge-pill\">4</span></a>\n",
    "  <a class=\"list-group-item list-group-item-action\" data-toggle=\"list\" href=\"#5\" role=\"tab\" aria-controls=\"settings\">Optimising model with TensorBoard<span class=\"badge badge-primary badge-pill\">5</span></a> \n",
    "  <a class=\"list-group-item list-group-item-action\" data-toggle=\"list\" href=\"#6\" role=\"tab\" aria-controls=\"settings\"> Make predictions with our model<span class=\"badge badge-primary badge-pill\">6</span></a> \n",
    "  <a class=\"list-group-item list-group-item-action\" data-toggle=\"list\" href=\"#7\" role=\"tab\" aria-controls=\"settings\">Conclusion<span class=\"badge badge-primary badge-pill\">5</span></a> \n",
    "</div>"
   ]
  },
  {
   "cell_type": "markdown",
   "metadata": {},
   "source": [
    "<a id=\"1\"></a> <br>\n",
    "## 1. Import packages"
   ]
  },
  {
   "cell_type": "code",
   "execution_count": 2,
   "metadata": {},
   "outputs": [],
   "source": [
    "import sys\n",
    "\n",
    "if not sys.warnoptions:\n",
    "    import warnings\n",
    "    warnings.simplefilter(\"ignore\")"
   ]
  },
  {
   "cell_type": "code",
   "execution_count": 3,
   "metadata": {},
   "outputs": [
    {
     "name": "stdout",
     "output_type": "stream",
     "text": [
      "2.0.0\n"
     ]
    }
   ],
   "source": [
    "import tensorflow as tf\n",
    "\n",
    "print(tf.__version__)"
   ]
  },
  {
   "cell_type": "code",
   "execution_count": 22,
   "metadata": {},
   "outputs": [],
   "source": [
    "import matplotlib.pyplot as plt\n",
    "import os\n",
    "import cv2\n",
    "#pip install opencv-python\n",
    "from tqdm import tqdm\n",
    "import numpy as np"
   ]
  },
  {
   "cell_type": "markdown",
   "metadata": {},
   "source": [
    "<a id=\"2\"></a> <br>\n",
    "## 2. Loading your own data"
   ]
  },
  {
   "cell_type": "markdown",
   "metadata": {},
   "source": [
    "First, we need a dataset,  let's grab the Dogs vs Cats dataset from Microsoft. I : https://www.microsoft.com/en-us/download/confirmation.aspx?id=54765"
   ]
  },
  {
   "cell_type": "code",
   "execution_count": 7,
   "metadata": {},
   "outputs": [
    {
     "data": {
      "text/plain": [
       "<Figure size 640x480 with 1 Axes>"
      ]
     },
     "metadata": {},
     "output_type": "display_data"
    }
   ],
   "source": [
    "DATADIR = \"PetImages\"\n",
    "\n",
    "CATEGORIES = [\"Dog\", \"Cat\"]\n",
    "\n",
    "for category in CATEGORIES: \n",
    "    path = os.path.join(DATADIR,category) \n",
    "    for img in os.listdir(path): \n",
    "        img_array = cv2.imread(os.path.join(path,img) ,cv2.IMREAD_GRAYSCALE) \n",
    "        plt.imshow(img_array, cmap='gray') \n",
    "        plt.show()  \n",
    "\n",
    "        break \n",
    "    break  "
   ]
  },
  {
   "cell_type": "markdown",
   "metadata": {},
   "source": [
    "Let's see the shape. "
   ]
  },
  {
   "cell_type": "code",
   "execution_count": 8,
   "metadata": {},
   "outputs": [
    {
     "name": "stdout",
     "output_type": "stream",
     "text": [
      "(375, 500)\n"
     ]
    }
   ],
   "source": [
    "print(img_array.shape)"
   ]
  },
  {
   "cell_type": "markdown",
   "metadata": {},
   "source": [
    "We definitely don't want the images that big, but also various images are different shapes, and this is also a problem. Let's modify that."
   ]
  },
  {
   "cell_type": "code",
   "execution_count": 10,
   "metadata": {},
   "outputs": [
    {
     "data": {
      "image/png": "[encoded data removed]",
      "text/plain": [
       "<Figure size 432x288 with 1 Axes>"
      ]
     },
     "metadata": {
      "needs_background": "light"
     },
     "output_type": "display_data"
    }
   ],
   "source": [
    "IMG_SIZE = 40\n",
    "\n",
    "new_array = cv2.resize(img_array, (IMG_SIZE, IMG_SIZE))\n",
    "plt.imshow(new_array, cmap='gray')\n",
    "plt.show()\n"
   ]
  },
  {
   "cell_type": "markdown",
   "metadata": {},
   "source": [
    "It's too much, let's search for the perfect IMG_SIZE."
   ]
  },
  {
   "cell_type": "code",
   "execution_count": 4,
   "metadata": {},
   "outputs": [
    {
     "data": {
      "image/png": "[encoded data removed]",
      "text/plain": [
       "<Figure size 432x288 with 1 Axes>"
      ]
     },
     "metadata": {
      "needs_background": "light"
     },
     "output_type": "display_data"
    },
    {
     "data": {
      "image/png": "[encoded data removed]",
      "text/plain": [
       "<Figure size 432x288 with 1 Axes>"
      ]
     },
     "metadata": {
      "needs_background": "light"
     },
     "output_type": "display_data"
    },
    {
     "data": {
      "image/png": "[encoded data removed]",
      "text/plain": [
       "<Figure size 432x288 with 1 Axes>"
      ]
     },
     "metadata": {
      "needs_background": "light"
     },
     "output_type": "display_data"
    },
    {
     "data": {
      "image/png": "[encoded data removed]",
      "text/plain": [
       "<Figure size 432x288 with 1 Axes>"
      ]
     },
     "metadata": {
      "needs_background": "light"
     },
     "output_type": "display_data"
    },
    {
     "data": {
      "image/png": "[encoded data removed]",
      "text/plain": [
       "<Figure size 432x288 with 1 Axes>"
      ]
     },
     "metadata": {
      "needs_background": "light"
     },
     "output_type": "display_data"
    },
    {
     "data": {
      "image/png": "[encoded data removed]",
      "text/plain": [
       "<Figure size 432x288 with 1 Axes>"
      ]
     },
     "metadata": {
      "needs_background": "light"
     },
     "output_type": "display_data"
    }
   ],
   "source": [
    "for i in np.arange(10,200,35):\n",
    "\n",
    "    IMG_SIZE = i\n",
    "\n",
    "    new_array = cv2.resize(img_array, (IMG_SIZE, IMG_SIZE))\n",
    "    plt.imshow(new_array, cmap='gray')\n",
    "    plt.show()"
   ]
  },
  {
   "cell_type": "markdown",
   "metadata": {},
   "source": [
    "50 seems good."
   ]
  },
  {
   "cell_type": "code",
   "execution_count": 5,
   "metadata": {},
   "outputs": [
    {
     "data": {
      "image/png": "[encoded data removed]",
      "text/plain": [
       "<Figure size 432x288 with 1 Axes>"
      ]
     },
     "metadata": {
      "needs_background": "light"
     },
     "output_type": "display_data"
    }
   ],
   "source": [
    "IMG_SIZE = 50\n",
    "\n",
    "new_array = cv2.resize(img_array, (IMG_SIZE, IMG_SIZE))\n",
    "plt.imshow(new_array, cmap='gray')\n",
    "plt.show()\n"
   ]
  },
  {
   "cell_type": "markdown",
   "metadata": {},
   "source": [
    "Now let's build our training data :"
   ]
  },
  {
   "cell_type": "code",
   "execution_count": 7,
   "metadata": {},
   "outputs": [
    {
     "name": "stderr",
     "output_type": "stream",
     "text": [
      "100%|███████████████████████████████████████████████████████████████████████████| 12501/12501 [00:33<00:00, 370.11it/s]\n",
      "100%|███████████████████████████████████████████████████████████████████████████| 12501/12501 [00:33<00:00, 377.90it/s]\n"
     ]
    },
    {
     "name": "stdout",
     "output_type": "stream",
     "text": [
      "24946\n"
     ]
    }
   ],
   "source": [
    "training_data = []\n",
    "\n",
    "def create_training_data():\n",
    "    for category in CATEGORIES:  # do dogs and cats\n",
    "\n",
    "        path = os.path.join(DATADIR,category)  # create path to dogs and cats\n",
    "        class_num = CATEGORIES.index(category)  # get the classification  (0 or a 1). 0=dog 1=cat\n",
    "\n",
    "        for img in tqdm(os.listdir(path)):  # iterate over each image per dogs and cats\n",
    "            try:\n",
    "                img_array = cv2.imread(os.path.join(path,img) ,cv2.IMREAD_GRAYSCALE)  # convert to array\n",
    "                new_array = cv2.resize(img_array, (IMG_SIZE, IMG_SIZE))  # resize to normalize data size\n",
    "                training_data.append([new_array, class_num])  # add this to our training_data\n",
    "            except Exception as e:  # in the interest in keeping the output clean...\n",
    "                pass\n",
    "            #except OSError as e:\n",
    "            #    print(\"OSErrroBad img most likely\", e, os.path.join(path,img))\n",
    "            #except Exception as e:\n",
    "            #    print(\"general exception\", e, os.path.join(path,img))\n",
    "\n",
    "create_training_data()\n",
    "\n",
    "print(len(training_data))"
   ]
  },
  {
   "cell_type": "markdown",
   "metadata": {},
   "source": [
    "Next let's shuffle our data for good measure."
   ]
  },
  {
   "cell_type": "code",
   "execution_count": 8,
   "metadata": {},
   "outputs": [],
   "source": [
    "import random\n",
    "\n",
    "random.shuffle(training_data)"
   ]
  },
  {
   "cell_type": "markdown",
   "metadata": {},
   "source": [
    "Let's verify if it's nicely shuffled !"
   ]
  },
  {
   "cell_type": "code",
   "execution_count": 9,
   "metadata": {},
   "outputs": [
    {
     "name": "stdout",
     "output_type": "stream",
     "text": [
      "1\n",
      "1\n",
      "0\n",
      "1\n",
      "0\n",
      "1\n",
      "0\n",
      "1\n",
      "1\n",
      "0\n"
     ]
    }
   ],
   "source": [
    "for sample in training_data[:10]:\n",
    "    print(sample[1])"
   ]
  },
  {
   "cell_type": "markdown",
   "metadata": {},
   "source": [
    "Yes it is ! "
   ]
  },
  {
   "cell_type": "code",
   "execution_count": 10,
   "metadata": {},
   "outputs": [
    {
     "name": "stdout",
     "output_type": "stream",
     "text": [
      "[[[[113]\n",
      "   [112]\n",
      "   [ 97]\n",
      "   ...\n",
      "   [ 46]\n",
      "   [ 50]\n",
      "   [ 45]]\n",
      "\n",
      "  [[113]\n",
      "   [112]\n",
      "   [ 72]\n",
      "   ...\n",
      "   [ 46]\n",
      "   [ 47]\n",
      "   [ 43]]\n",
      "\n",
      "  [[112]\n",
      "   [110]\n",
      "   [ 65]\n",
      "   ...\n",
      "   [ 51]\n",
      "   [ 48]\n",
      "   [ 48]]\n",
      "\n",
      "  ...\n",
      "\n",
      "  [[ 15]\n",
      "   [ 12]\n",
      "   [ 13]\n",
      "   ...\n",
      "   [ 79]\n",
      "   [ 28]\n",
      "   [ 25]]\n",
      "\n",
      "  [[ 79]\n",
      "   [ 51]\n",
      "   [ 80]\n",
      "   ...\n",
      "   [ 45]\n",
      "   [ 90]\n",
      "   [ 53]]\n",
      "\n",
      "  [[ 32]\n",
      "   [ 21]\n",
      "   [ 13]\n",
      "   ...\n",
      "   [ 48]\n",
      "   [ 48]\n",
      "   [ 20]]]]\n"
     ]
    }
   ],
   "source": [
    "IMG_SIZE = 50\n",
    "\n",
    "\n",
    "\n",
    "X = []\n",
    "y = []\n",
    "\n",
    "for features,label in training_data:\n",
    "    X.append(features)\n",
    "    y.append(label)\n",
    "\n",
    "X = np.array(X).reshape(-1, IMG_SIZE, IMG_SIZE, 1)\n",
    "\n",
    "y = np.array(y)\n",
    "\n",
    "print(X[0].reshape(-1, IMG_SIZE, IMG_SIZE, 1))\n",
    "\n",
    "X = np.array(X).reshape(-1, IMG_SIZE, IMG_SIZE, 1)"
   ]
  },
  {
   "cell_type": "markdown",
   "metadata": {},
   "source": [
    "Let's save this data, so that we don't need to keep calculating it every time we want to play with the neural network model. For this, we can use pickle, if you don't know it : https://docs.python.org/3/library/pickle.html"
   ]
  },
  {
   "cell_type": "code",
   "execution_count": 11,
   "metadata": {},
   "outputs": [],
   "source": [
    "import pickle\n",
    "\n",
    "pickle_out = open(\"X.pickle\",\"wb\")\n",
    "pickle.dump(X, pickle_out)\n",
    "pickle_out.close()\n",
    "\n",
    "pickle_out = open(\"y.pickle\",\"wb\")\n",
    "pickle.dump(y, pickle_out)\n",
    "pickle_out.close()"
   ]
  },
  {
   "cell_type": "markdown",
   "metadata": {},
   "source": [
    "We can load it whatever and whenever we want, we just need the files in our folder !"
   ]
  },
  {
   "cell_type": "code",
   "execution_count": 12,
   "metadata": {},
   "outputs": [],
   "source": [
    "pickle_in = open(\"X.pickle\",\"rb\")\n",
    "X = pickle.load(pickle_in)\n",
    "\n",
    "pickle_in = open(\"y.pickle\",\"rb\")\n",
    "y = pickle.load(pickle_in)"
   ]
  },
  {
   "cell_type": "markdown",
   "metadata": {},
   "source": [
    "It's time to make our model, if you don't know anything about Neural Network and Deep Learning, I strongly recommand this wonderful playlist by 3blue1brown : https://www.youtube.com/watch?v=aircAruvnKk&list=PLZHQObOWTQDNU6R1_67000Dx_ZCJB-3pi\n",
    "\n",
    "It's really awesome how he can explain stuff so easily and yet so hard."
   ]
  },
  {
   "cell_type": "markdown",
   "metadata": {},
   "source": [
    "<a id=\"3\"></a> <br>\n",
    "## 3. First Deep Learning model"
   ]
  },
  {
   "cell_type": "markdown",
   "metadata": {},
   "source": [
    "Time to make our Neural Network ! Let's import the packages needed."
   ]
  },
  {
   "cell_type": "code",
   "execution_count": 13,
   "metadata": {},
   "outputs": [
    {
     "name": "stdout",
     "output_type": "stream",
     "text": [
      "Train on 17462 samples, validate on 7484 samples\n",
      "Epoch 1/3\n",
      "17462/17462 - 340s - loss: 0.6467 - accuracy: 0.6242 - val_loss: 0.5987 - val_accuracy: 0.6921\n",
      "Epoch 2/3\n",
      "17462/17462 - 317s - loss: 0.5805 - accuracy: 0.6974 - val_loss: 0.5573 - val_accuracy: 0.7088\n",
      "Epoch 3/3\n",
      "17462/17462 - 307s - loss: 0.5316 - accuracy: 0.7343 - val_loss: 0.5174 - val_accuracy: 0.7515\n"
     ]
    },
    {
     "data": {
      "text/plain": [
       "<tensorflow.python.keras.callbacks.History at 0x2170022e0f0>"
      ]
     },
     "execution_count": 13,
     "metadata": {},
     "output_type": "execute_result"
    }
   ],
   "source": [
    "import tensorflow as tf\n",
    "from tensorflow.keras.datasets import cifar10\n",
    "from tensorflow.keras.preprocessing.image import ImageDataGenerator\n",
    "from tensorflow.keras.models import Sequential\n",
    "from tensorflow.keras.layers import Dense, Dropout, Activation, Flatten\n",
    "from tensorflow.keras.layers import Conv2D, MaxPooling2D\n",
    "\n",
    "import pickle\n",
    "\n",
    "pickle_in = open(\"X.pickle\",\"rb\")\n",
    "X = pickle.load(pickle_in)\n",
    "\n",
    "pickle_in = open(\"y.pickle\",\"rb\")\n",
    "y = pickle.load(pickle_in)\n",
    "\n",
    "X = X/255.0 #VERY IMPORTANT STEPS\n",
    "\n",
    "model = Sequential()\n",
    "\n",
    "model.add(Conv2D(256, (3, 3), input_shape=X.shape[1:]))\n",
    "model.add(Activation('relu'))\n",
    "model.add(MaxPooling2D(pool_size=(2, 2)))\n",
    "\n",
    "model.add(Conv2D(256, (3, 3)))\n",
    "model.add(Activation('relu'))\n",
    "model.add(MaxPooling2D(pool_size=(2, 2)))\n",
    "\n",
    "model.add(Flatten())  # this converts our 3D feature maps to 1D feature vectors\n",
    "\n",
    "model.add(Dense(64))\n",
    "\n",
    "model.add(Dense(1))\n",
    "model.add(Activation('sigmoid'))\n",
    "\n",
    "model.compile(loss='binary_crossentropy',\n",
    "              optimizer='adam',\n",
    "              metrics=['accuracy'])\n",
    "\n",
    "model.fit(X, y, batch_size=32, epochs=3, verbose = 2, validation_split=0.3)"
   ]
  },
  {
   "cell_type": "markdown",
   "metadata": {},
   "source": [
    "<a id=\"4\"></a> <br>\n",
    "## 4. Analysing model with TensorBoard"
   ]
  },
  {
   "cell_type": "markdown",
   "metadata": {},
   "source": [
    "Nice result for a first try ! Now let's talk about **TensorBoard** :)\n",
    "\n",
    "First things first, let's import it."
   ]
  },
  {
   "cell_type": "code",
   "execution_count": 32,
   "metadata": {},
   "outputs": [],
   "source": [
    "from tensorflow.keras.callbacks import TensorBoard"
   ]
  },
  {
   "cell_type": "markdown",
   "metadata": {},
   "source": [
    "The way that we use TensorBoard with Keras is via a Keras callback. If you want to check out all the Keras callbacks, here it is : https://www.tensorflow.org/api_docs/python/tf/keras/callbacks/TensorBoard\n",
    "\n",
    "Let's focus on TensorBoard, we want to make our TensorBoard callback object.\n",
    "\n",
    "This will save the model's training data to logs/NAME, which can then be read by TensorBoard.\n",
    "\n",
    "We can add it into our model by adding it to the .fit method, with callbacks, like :"
   ]
  },
  {
   "cell_type": "code",
   "execution_count": null,
   "metadata": {},
   "outputs": [],
   "source": [
    "model.fit(X, y,\n",
    "          batch_size=32,\n",
    "          epochs=3,\n",
    "          validation_split=0.3,\n",
    "           verbose = 2,\n",
    "          callbacks = [tf.keras.callbacks.TensorBoard(log_dir=\"logs/{}\".format(NAME), histogram_freq=1, profile_batch = 100000000)])"
   ]
  },
  {
   "cell_type": "markdown",
   "metadata": {},
   "source": [
    "You could also use : "
   ]
  },
  {
   "cell_type": "code",
   "execution_count": null,
   "metadata": {},
   "outputs": [],
   "source": [
    "tensorboard = TensorBoard(log_dir=\"logs/{}\".format(NAME))\n",
    "callbacks = [tensorboard])"
   ]
  },
  {
   "cell_type": "markdown",
   "metadata": {},
   "source": [
    "For me, this method doesn't work but maybe for you it will work. "
   ]
  },
  {
   "cell_type": "markdown",
   "metadata": {},
   "source": [
    "So let's put this all together now !"
   ]
  },
  {
   "cell_type": "code",
   "execution_count": 17,
   "metadata": {},
   "outputs": [
    {
     "name": "stdout",
     "output_type": "stream",
     "text": [
      "Train on 17462 samples, validate on 7484 samples\n",
      "Epoch 1/3\n",
      "17462/17462 - 325s - loss: 0.6361 - accuracy: 0.6315 - val_loss: 0.5754 - val_accuracy: 0.7032\n",
      "Epoch 2/3\n",
      "17462/17462 - 318s - loss: 0.5525 - accuracy: 0.7220 - val_loss: 0.5268 - val_accuracy: 0.7400\n",
      "Epoch 3/3\n",
      "17462/17462 - 325s - loss: 0.5042 - accuracy: 0.7495 - val_loss: 0.4827 - val_accuracy: 0.7652\n"
     ]
    },
    {
     "data": {
      "text/plain": [
       "<tensorflow.python.keras.callbacks.History at 0x1529d2329e8>"
      ]
     },
     "execution_count": 17,
     "metadata": {},
     "output_type": "execute_result"
    }
   ],
   "source": [
    "import tensorflow as tf\n",
    "from tensorflow.keras.datasets import cifar10\n",
    "from tensorflow.keras.preprocessing.image import ImageDataGenerator\n",
    "from tensorflow.keras.models import Sequential\n",
    "from tensorflow.keras.layers import Dense, Dropout, Activation, Flatten\n",
    "from tensorflow.keras.layers import Conv2D, MaxPooling2D\n",
    "# more info on callbakcs: https://keras.io/callbacks/ model saver is cool too.\n",
    "from tensorflow.keras.callbacks import TensorBoard\n",
    "import pickle\n",
    "import time\n",
    "\n",
    "NAME = \"Cats_vs_dogs-CNN\" #you need to create this repository before running or you will encounter an error\n",
    "\n",
    "#logdir = \"logs\\\\model\"\n",
    "\n",
    "#https://github.com/tensorflow/tensorboard/issues/2819    help for directory\n",
    "\n",
    "pickle_in = open(\"X.pickle\",\"rb\")\n",
    "X = pickle.load(pickle_in)\n",
    "\n",
    "pickle_in = open(\"y.pickle\",\"rb\")\n",
    "y = pickle.load(pickle_in)\n",
    "\n",
    "X = X/255.0\n",
    "\n",
    "model = Sequential()\n",
    "\n",
    "model.add(Conv2D(256, (3, 3), input_shape=X.shape[1:]))\n",
    "model.add(Activation('relu'))\n",
    "model.add(MaxPooling2D(pool_size=(2, 2)))\n",
    "\n",
    "model.add(Conv2D(256, (3, 3)))\n",
    "model.add(Activation('relu'))\n",
    "model.add(MaxPooling2D(pool_size=(2, 2)))\n",
    "\n",
    "model.add(Flatten())  # this converts our 3D feature maps to 1D feature vectors\n",
    "model.add(Dense(64))\n",
    "model.add(Activation('relu'))\n",
    "\n",
    "model.add(Dense(1))\n",
    "model.add(Activation('sigmoid'))\n",
    "\n",
    "#tensorboard = TensorBoard(log_dir=\"logs/{}\".format(NAME))\n",
    "\n",
    "model.compile(loss='binary_crossentropy',\n",
    "              optimizer='adam',\n",
    "              metrics=['accuracy'],\n",
    "              )\n",
    "\n",
    "\n",
    "import tensorflow as tf\n",
    "#call = keras.callbacks.TensorBoard(log_dir=logdir)\n",
    "\n",
    "model.fit(X, y,\n",
    "          batch_size=32,\n",
    "          epochs=3,\n",
    "          validation_split=0.3,\n",
    "           verbose = 2,\n",
    "          #callbacks = [tensorboard])\n",
    "          \n",
    "          \n",
    "          callbacks = [tf.keras.callbacks.TensorBoard(log_dir=\"logs/{}\".format(NAME), histogram_freq=1, profile_batch = 100000000)])"
   ]
  },
  {
   "cell_type": "markdown",
   "metadata": {},
   "source": [
    "After having run this, you should have a new directory called logs. We can visualize the initial results from this directory using tensorboard now. Open a console, change to your working directory, and type: tensorboard --logdir=logs/. You should see a notice like: TensorBoard 1.10.0 at http://H-PC:6006 (Press CTRL+C to quit) where \"h-pc\" probably is whatever your machine's name is. Open a browser and head to this address. You should see something like:"
   ]
  },
  {
   "cell_type": "markdown",
   "metadata": {},
   "source": [
    "![](https://pythonprogramming.net/static/images/machine-learning/tensorboard-basic.png)"
   ]
  },
  {
   "cell_type": "markdown",
   "metadata": {},
   "source": [
    "Now we can see how our model did over time. We can also save it for later if we want to rerun it directly."
   ]
  },
  {
   "cell_type": "code",
   "execution_count": null,
   "metadata": {},
   "outputs": [],
   "source": [
    "model.save('firstmodel.model')"
   ]
  },
  {
   "cell_type": "markdown",
   "metadata": {},
   "source": [
    "If you want to load it :"
   ]
  },
  {
   "cell_type": "code",
   "execution_count": null,
   "metadata": {},
   "outputs": [],
   "source": [
    "model = tf.keras.models.load_model(\"firstmodel.model\")"
   ]
  },
  {
   "cell_type": "markdown",
   "metadata": {},
   "source": [
    "<a id=\"5\"></a> <br>\n",
    "## 5. Optimising model with TensorBoard"
   ]
  },
  {
   "cell_type": "markdown",
   "metadata": {},
   "source": [
    "So, previously we introduce TensorBoard, which is an application that we can use to visualize our model's training stats over time. In this tutorial, we're going to continue on that to exemplify how you might build a workflow to optimize your model's architecture."
   ]
  },
  {
   "cell_type": "markdown",
   "metadata": {},
   "source": [
    "To begin, let's think of a few things we could do to this model that we'd like to know.\n",
    "\n",
    "The most basic things for us to modify are layers and nodes per layer, as well as 0, 1, or 2 dense layers. Let's test those things."
   ]
  },
  {
   "cell_type": "markdown",
   "metadata": {},
   "source": [
    "You could make more parameters, more variables, if fou wish, if you have the right computer, go for it but my computer isn't quite strong enough at the moment so those parameters will do the job for me :)"
   ]
  },
  {
   "cell_type": "code",
   "execution_count": 19,
   "metadata": {},
   "outputs": [
    {
     "name": "stdout",
     "output_type": "stream",
     "text": [
      "1-conv-16-node-0-dense-1597328764\n",
      "2-conv-16-node-0-dense-1597328764\n",
      "1-conv-32-node-0-dense-1597328764\n",
      "2-conv-32-node-0-dense-1597328764\n",
      "1-conv-16-node-1-dense-1597328764\n",
      "2-conv-16-node-1-dense-1597328764\n",
      "1-conv-32-node-1-dense-1597328764\n",
      "2-conv-32-node-1-dense-1597328764\n"
     ]
    }
   ],
   "source": [
    "import time\n",
    "\n",
    "dense_layers = [0,1]\n",
    "layer_sizes = [16,32]\n",
    "conv_layers = [1,2]\n",
    "\n",
    "for dense_layer in dense_layers:\n",
    "    for layer_size in layer_sizes:\n",
    "        for conv_layer in conv_layers:\n",
    "            NAME = \"{}-conv-{}-node-{}-dense-{}\".format(conv_layer, layer_size, dense_layer, int(time.time()))\n",
    "            print(NAME)"
   ]
  },
  {
   "cell_type": "markdown",
   "metadata": {},
   "source": [
    "So let's build our model now."
   ]
  },
  {
   "cell_type": "code",
   "execution_count": 25,
   "metadata": {},
   "outputs": [
    {
     "name": "stdout",
     "output_type": "stream",
     "text": [
      "1-conv-16-nodes-0-dense-1597329024\n",
      "Train on 17462 samples, validate on 7484 samples\n",
      "Epoch 1/10\n",
      "17462/17462 - 11s - loss: 0.6272 - accuracy: 0.6461 - val_loss: 0.5825 - val_accuracy: 0.7006\n",
      "Epoch 2/10\n",
      "17462/17462 - 9s - loss: 0.5677 - accuracy: 0.7101 - val_loss: 0.5576 - val_accuracy: 0.7206\n",
      "Epoch 3/10\n",
      "17462/17462 - 10s - loss: 0.5401 - accuracy: 0.7330 - val_loss: 0.5418 - val_accuracy: 0.7306\n",
      "Epoch 4/10\n",
      "17462/17462 - 10s - loss: 0.5221 - accuracy: 0.7457 - val_loss: 0.5359 - val_accuracy: 0.7336\n",
      "Epoch 5/10\n",
      "17462/17462 - 11s - loss: 0.5062 - accuracy: 0.7564 - val_loss: 0.5279 - val_accuracy: 0.7406\n",
      "Epoch 6/10\n",
      "17462/17462 - 9s - loss: 0.4923 - accuracy: 0.7653 - val_loss: 0.5258 - val_accuracy: 0.7406\n",
      "Epoch 7/10\n",
      "17462/17462 - 9s - loss: 0.4804 - accuracy: 0.7753 - val_loss: 0.5230 - val_accuracy: 0.7495\n",
      "Epoch 8/10\n",
      "17462/17462 - 9s - loss: 0.4716 - accuracy: 0.7814 - val_loss: 0.5294 - val_accuracy: 0.7402\n",
      "Epoch 9/10\n",
      "17462/17462 - 9s - loss: 0.4611 - accuracy: 0.7856 - val_loss: 0.5233 - val_accuracy: 0.7468\n",
      "Epoch 10/10\n",
      "17462/17462 - 9s - loss: 0.4528 - accuracy: 0.7929 - val_loss: 0.5207 - val_accuracy: 0.7489\n",
      "2-conv-16-nodes-0-dense-1597329120\n",
      "Train on 17462 samples, validate on 7484 samples\n",
      "Epoch 1/10\n",
      "17462/17462 - 15s - loss: 0.6504 - accuracy: 0.6094 - val_loss: 0.5924 - val_accuracy: 0.6788\n",
      "Epoch 2/10\n",
      "17462/17462 - 15s - loss: 0.5733 - accuracy: 0.7013 - val_loss: 0.5943 - val_accuracy: 0.6839\n",
      "Epoch 3/10\n",
      "17462/17462 - 15s - loss: 0.5348 - accuracy: 0.7344 - val_loss: 0.5259 - val_accuracy: 0.7413\n",
      "Epoch 4/10\n",
      "17462/17462 - 14s - loss: 0.5122 - accuracy: 0.7531 - val_loss: 0.5135 - val_accuracy: 0.7449\n",
      "Epoch 5/10\n",
      "17462/17462 - 14s - loss: 0.4942 - accuracy: 0.7670 - val_loss: 0.4993 - val_accuracy: 0.7599\n",
      "Epoch 6/10\n",
      "17462/17462 - 13s - loss: 0.4850 - accuracy: 0.7714 - val_loss: 0.4905 - val_accuracy: 0.7644\n",
      "Epoch 7/10\n",
      "17462/17462 - 14s - loss: 0.4709 - accuracy: 0.7804 - val_loss: 0.4868 - val_accuracy: 0.7664\n",
      "Epoch 8/10\n",
      "17462/17462 - 14s - loss: 0.4612 - accuracy: 0.7817 - val_loss: 0.5055 - val_accuracy: 0.7528\n",
      "Epoch 9/10\n",
      "17462/17462 - 15s - loss: 0.4563 - accuracy: 0.7897 - val_loss: 0.4891 - val_accuracy: 0.7628\n",
      "Epoch 10/10\n",
      "17462/17462 - 15s - loss: 0.4460 - accuracy: 0.7936 - val_loss: 0.4727 - val_accuracy: 0.7753\n",
      "1-conv-32-nodes-0-dense-1597329265\n",
      "Train on 17462 samples, validate on 7484 samples\n",
      "Epoch 1/10\n",
      "17462/17462 - 15s - loss: 0.6330 - accuracy: 0.6411 - val_loss: 0.5821 - val_accuracy: 0.7014\n",
      "Epoch 2/10\n",
      "17462/17462 - 15s - loss: 0.5671 - accuracy: 0.7114 - val_loss: 0.5750 - val_accuracy: 0.6995\n",
      "Epoch 3/10\n",
      "17462/17462 - 14s - loss: 0.5294 - accuracy: 0.7408 - val_loss: 0.5379 - val_accuracy: 0.7413\n",
      "Epoch 4/10\n",
      "17462/17462 - 14s - loss: 0.5065 - accuracy: 0.7580 - val_loss: 0.5420 - val_accuracy: 0.7265\n",
      "Epoch 5/10\n",
      "17462/17462 - 14s - loss: 0.4884 - accuracy: 0.7685 - val_loss: 0.5204 - val_accuracy: 0.7465\n",
      "Epoch 6/10\n",
      "17462/17462 - 16s - loss: 0.4745 - accuracy: 0.7779 - val_loss: 0.5272 - val_accuracy: 0.7377\n",
      "Epoch 7/10\n",
      "17462/17462 - 14s - loss: 0.4598 - accuracy: 0.7856 - val_loss: 0.5262 - val_accuracy: 0.7420\n",
      "Epoch 8/10\n",
      "17462/17462 - 14s - loss: 0.4479 - accuracy: 0.7925 - val_loss: 0.5230 - val_accuracy: 0.7468\n",
      "Epoch 9/10\n",
      "17462/17462 - 15s - loss: 0.4419 - accuracy: 0.7964 - val_loss: 0.5298 - val_accuracy: 0.7443\n",
      "Epoch 10/10\n",
      "17462/17462 - 14s - loss: 0.4276 - accuracy: 0.8034 - val_loss: 0.5445 - val_accuracy: 0.7349\n",
      "2-conv-32-nodes-0-dense-1597329410\n",
      "Train on 17462 samples, validate on 7484 samples\n",
      "Epoch 1/10\n",
      "17462/17462 - 28s - loss: 0.6445 - accuracy: 0.6213 - val_loss: 0.5802 - val_accuracy: 0.7003\n",
      "Epoch 2/10\n",
      "17462/17462 - 28s - loss: 0.5547 - accuracy: 0.7174 - val_loss: 0.5531 - val_accuracy: 0.7193\n",
      "Epoch 3/10\n",
      "17462/17462 - 32s - loss: 0.5147 - accuracy: 0.7488 - val_loss: 0.5013 - val_accuracy: 0.7537\n",
      "Epoch 4/10\n",
      "17462/17462 - 26s - loss: 0.4926 - accuracy: 0.7649 - val_loss: 0.5092 - val_accuracy: 0.7507\n",
      "Epoch 5/10\n",
      "17462/17462 - 27s - loss: 0.4774 - accuracy: 0.7722 - val_loss: 0.4949 - val_accuracy: 0.7614\n",
      "Epoch 6/10\n",
      "17462/17462 - 28s - loss: 0.4648 - accuracy: 0.7831 - val_loss: 0.5070 - val_accuracy: 0.7532\n",
      "Epoch 7/10\n",
      "17462/17462 - 27s - loss: 0.4504 - accuracy: 0.7930 - val_loss: 0.5108 - val_accuracy: 0.7564\n",
      "Epoch 8/10\n",
      "17462/17462 - 25s - loss: 0.4376 - accuracy: 0.8004 - val_loss: 0.4584 - val_accuracy: 0.7865\n",
      "Epoch 9/10\n",
      "17462/17462 - 25s - loss: 0.4237 - accuracy: 0.8077 - val_loss: 0.4778 - val_accuracy: 0.7769\n",
      "Epoch 10/10\n",
      "17462/17462 - 25s - loss: 0.4114 - accuracy: 0.8132 - val_loss: 0.4532 - val_accuracy: 0.7875\n",
      "1-conv-16-nodes-1-dense-1597329682\n",
      "Train on 17462 samples, validate on 7484 samples\n",
      "Epoch 1/10\n",
      "17462/17462 - 11s - loss: 0.6295 - accuracy: 0.6403 - val_loss: 0.6095 - val_accuracy: 0.6557\n",
      "Epoch 2/10\n",
      "17462/17462 - 10s - loss: 0.5573 - accuracy: 0.7168 - val_loss: 0.5561 - val_accuracy: 0.7239\n",
      "Epoch 3/10\n",
      "17462/17462 - 10s - loss: 0.5310 - accuracy: 0.7383 - val_loss: 0.5443 - val_accuracy: 0.7273\n",
      "Epoch 4/10\n",
      "17462/17462 - 9s - loss: 0.5062 - accuracy: 0.7542 - val_loss: 0.5475 - val_accuracy: 0.7251\n",
      "Epoch 5/10\n",
      "17462/17462 - 9s - loss: 0.4910 - accuracy: 0.7649 - val_loss: 0.5355 - val_accuracy: 0.7385\n",
      "Epoch 6/10\n",
      "17462/17462 - 11s - loss: 0.4705 - accuracy: 0.7733 - val_loss: 0.5530 - val_accuracy: 0.7186\n",
      "Epoch 7/10\n",
      "17462/17462 - 12s - loss: 0.4569 - accuracy: 0.7828 - val_loss: 0.5320 - val_accuracy: 0.7396\n",
      "Epoch 8/10\n",
      "17462/17462 - 11s - loss: 0.4386 - accuracy: 0.7950 - val_loss: 0.5219 - val_accuracy: 0.7447\n",
      "Epoch 9/10\n",
      "17462/17462 - 10s - loss: 0.4193 - accuracy: 0.8084 - val_loss: 0.5616 - val_accuracy: 0.7284\n",
      "Epoch 10/10\n",
      "17462/17462 - 9s - loss: 0.4009 - accuracy: 0.8198 - val_loss: 0.5347 - val_accuracy: 0.7414\n",
      "2-conv-16-nodes-1-dense-1597329784\n",
      "Train on 17462 samples, validate on 7484 samples\n",
      "Epoch 1/10\n",
      "17462/17462 - 15s - loss: 0.6579 - accuracy: 0.5998 - val_loss: 0.6053 - val_accuracy: 0.6708\n",
      "Epoch 2/10\n",
      "17462/17462 - 15s - loss: 0.5936 - accuracy: 0.6811 - val_loss: 0.5795 - val_accuracy: 0.6868\n",
      "Epoch 3/10\n",
      "17462/17462 - 15s - loss: 0.5550 - accuracy: 0.7173 - val_loss: 0.5909 - val_accuracy: 0.6873\n",
      "Epoch 4/10\n",
      "17462/17462 - 14s - loss: 0.5287 - accuracy: 0.7366 - val_loss: 0.5168 - val_accuracy: 0.7472\n",
      "Epoch 5/10\n",
      "17462/17462 - 14s - loss: 0.5051 - accuracy: 0.7573 - val_loss: 0.5073 - val_accuracy: 0.7516\n",
      "Epoch 6/10\n",
      "17462/17462 - 14s - loss: 0.4954 - accuracy: 0.7629 - val_loss: 0.5123 - val_accuracy: 0.7489\n",
      "Epoch 7/10\n",
      "17462/17462 - 14s - loss: 0.4867 - accuracy: 0.7706 - val_loss: 0.4932 - val_accuracy: 0.7635\n",
      "Epoch 8/10\n",
      "17462/17462 - 14s - loss: 0.4756 - accuracy: 0.7755 - val_loss: 0.4859 - val_accuracy: 0.7638\n",
      "Epoch 9/10\n",
      "17462/17462 - 14s - loss: 0.4682 - accuracy: 0.7789 - val_loss: 0.4806 - val_accuracy: 0.7711\n",
      "Epoch 10/10\n",
      "17462/17462 - 14s - loss: 0.4629 - accuracy: 0.7825 - val_loss: 0.4797 - val_accuracy: 0.7741\n",
      "1-conv-32-nodes-1-dense-1597329927\n",
      "Train on 17462 samples, validate on 7484 samples\n",
      "Epoch 1/10\n",
      "17462/17462 - 15s - loss: 0.6268 - accuracy: 0.6484 - val_loss: 0.5641 - val_accuracy: 0.7118\n",
      "Epoch 2/10\n",
      "17462/17462 - 15s - loss: 0.5447 - accuracy: 0.7278 - val_loss: 0.5433 - val_accuracy: 0.7296\n",
      "Epoch 3/10\n",
      "17462/17462 - 15s - loss: 0.5078 - accuracy: 0.7526 - val_loss: 0.5454 - val_accuracy: 0.7233\n",
      "Epoch 4/10\n",
      "17462/17462 - 15s - loss: 0.4693 - accuracy: 0.7761 - val_loss: 0.5288 - val_accuracy: 0.7431\n",
      "Epoch 5/10\n",
      "17462/17462 - 16s - loss: 0.4299 - accuracy: 0.8022 - val_loss: 0.5770 - val_accuracy: 0.7169\n",
      "Epoch 6/10\n",
      "17462/17462 - 15s - loss: 0.3929 - accuracy: 0.8243 - val_loss: 0.5307 - val_accuracy: 0.7452\n",
      "Epoch 7/10\n",
      "17462/17462 - 15s - loss: 0.3533 - accuracy: 0.8465 - val_loss: 0.5361 - val_accuracy: 0.7488\n",
      "Epoch 8/10\n",
      "17462/17462 - 16s - loss: 0.3083 - accuracy: 0.8660 - val_loss: 0.5728 - val_accuracy: 0.7427\n",
      "Epoch 9/10\n",
      "17462/17462 - 17s - loss: 0.2680 - accuracy: 0.8891 - val_loss: 0.5868 - val_accuracy: 0.7433\n",
      "Epoch 10/10\n",
      "17462/17462 - 16s - loss: 0.2295 - accuracy: 0.9078 - val_loss: 0.6451 - val_accuracy: 0.7405\n",
      "2-conv-32-nodes-1-dense-1597330081\n",
      "Train on 17462 samples, validate on 7484 samples\n",
      "Epoch 1/10\n",
      "17462/17462 - 26s - loss: 0.6368 - accuracy: 0.6234 - val_loss: 0.5669 - val_accuracy: 0.7043\n",
      "Epoch 2/10\n",
      "17462/17462 - 25s - loss: 0.5420 - accuracy: 0.7251 - val_loss: 0.5480 - val_accuracy: 0.7225\n"
     ]
    },
    {
     "name": "stdout",
     "output_type": "stream",
     "text": [
      "Epoch 3/10\n",
      "17462/17462 - 25s - loss: 0.5011 - accuracy: 0.7590 - val_loss: 0.4827 - val_accuracy: 0.7618\n",
      "Epoch 4/10\n",
      "17462/17462 - 24s - loss: 0.4690 - accuracy: 0.7798 - val_loss: 0.4719 - val_accuracy: 0.7708\n",
      "Epoch 5/10\n",
      "17462/17462 - 25s - loss: 0.4512 - accuracy: 0.7871 - val_loss: 0.4727 - val_accuracy: 0.7716\n",
      "Epoch 6/10\n",
      "17462/17462 - 26s - loss: 0.4278 - accuracy: 0.8010 - val_loss: 0.4672 - val_accuracy: 0.7735\n",
      "Epoch 7/10\n",
      "17462/17462 - 26s - loss: 0.4121 - accuracy: 0.8130 - val_loss: 0.4505 - val_accuracy: 0.7851\n",
      "Epoch 8/10\n",
      "17462/17462 - 27s - loss: 0.3897 - accuracy: 0.8231 - val_loss: 0.4482 - val_accuracy: 0.7870\n",
      "Epoch 9/10\n",
      "17462/17462 - 28s - loss: 0.3716 - accuracy: 0.8318 - val_loss: 0.4398 - val_accuracy: 0.7950\n",
      "Epoch 10/10\n",
      "17462/17462 - 29s - loss: 0.3462 - accuracy: 0.8438 - val_loss: 0.4544 - val_accuracy: 0.7961\n"
     ]
    }
   ],
   "source": [
    "from tensorflow.keras.models import Sequential\n",
    "from tensorflow.keras.layers import Dense, Dropout, Activation, Flatten\n",
    "from tensorflow.keras.layers import Conv2D, MaxPooling2D\n",
    "# more info on callbakcs: https://keras.io/callbacks/ model saver is cool too.\n",
    "from tensorflow.keras.callbacks import TensorBoard\n",
    "import pickle\n",
    "import time\n",
    "\n",
    "\n",
    "#https://github.com/ibab/tensorflow-wavenet/issues/255  solve directory problem\n",
    "\n",
    "NAME = \"Cats_vs_dogs-CNN\"\n",
    "\n",
    "pickle_in = open(\"X.pickle\",\"rb\")\n",
    "X = pickle.load(pickle_in)\n",
    "\n",
    "pickle_in = open(\"y.pickle\",\"rb\")\n",
    "y = pickle.load(pickle_in)\n",
    "\n",
    "X = X/255.0\n",
    "\n",
    "dense_layers = [0,1]\n",
    "layer_sizes = [16,32]\n",
    "conv_layers = [1,2]\n",
    "\n",
    "for dense_layer in dense_layers:\n",
    "    for layer_size in layer_sizes:\n",
    "        for conv_layer in conv_layers:\n",
    "            NAME = \"{}-conv-{}-nodes-{}-dense-{}\".format(conv_layer, layer_size, dense_layer, int(time.time()))\n",
    "            print(NAME)\n",
    "\n",
    "            model = Sequential()\n",
    "\n",
    "            model.add(Conv2D(layer_size, (3, 3), input_shape=X.shape[1:]))\n",
    "            model.add(Activation('relu'))\n",
    "            model.add(MaxPooling2D(pool_size=(2, 2)))\n",
    "\n",
    "            for l in range(conv_layer-1):\n",
    "                model.add(Conv2D(layer_size, (3, 3)))\n",
    "                model.add(Activation('relu'))\n",
    "                model.add(MaxPooling2D(pool_size=(2, 2)))\n",
    "\n",
    "            model.add(Flatten())\n",
    "\n",
    "            for _ in range(dense_layer):\n",
    "                model.add(Dense(layer_size))\n",
    "                model.add(Activation('relu'))\n",
    "\n",
    "            model.add(Dense(1))\n",
    "            model.add(Activation('sigmoid'))\n",
    "\n",
    "            #tensorboard = TensorBoard(log_dir=\"logs/{}\".format(NAME))\n",
    "\n",
    "            model.compile(loss='binary_crossentropy',\n",
    "                          optimizer='adam',\n",
    "                          metrics=['accuracy'],\n",
    "                          )\n",
    "\n",
    "            model.fit(X, y,\n",
    "                      batch_size=32,\n",
    "                      epochs=10,\n",
    "                      validation_split=0.3,\n",
    "                      verbose = 2,\n",
    "                      callbacks = [tf.keras.callbacks.TensorBoard(log_dir=\"logs\\{}\".format(NAME), histogram_freq=1, profile_batch = 100000000)])"
   ]
  },
  {
   "cell_type": "markdown",
   "metadata": {},
   "source": [
    "Even just toying with these parameters will take some significant time. We haven't even begun to touch other concepts like varying layer sizes, activation functions, learning rates, dropouts, and much much more."
   ]
  },
  {
   "cell_type": "markdown",
   "metadata": {},
   "source": [
    "Again, if you want to see which model perform better, go to your TensorBoard. First Open a console, change to your working directory, and type: tensorboard --logdir=logs/.\n",
    "\n",
    "You should have something like this :\n",
    "\n",
    "![](https://pythonprogramming.net/static/images/machine-learning/optimizing-models.png)\n",
    "\n",
    "If you have a lot of model, you can filter or zoom to see which one perform the most eficiently."
   ]
  },
  {
   "cell_type": "markdown",
   "metadata": {},
   "source": [
    "For me, the best model is : \n",
    "- **dense_layers** = *1*\n",
    "- **layer_sizes** = *32*\n",
    "- **conv_layers** = *2*\n",
    "\n",
    "So let's try that."
   ]
  },
  {
   "cell_type": "code",
   "execution_count": 32,
   "metadata": {},
   "outputs": [
    {
     "name": "stdout",
     "output_type": "stream",
     "text": [
      "Train on 17462 samples, validate on 7484 samples\n",
      "Epoch 1/10\n",
      "17462/17462 - 27s - loss: 0.6350 - accuracy: 0.6286 - val_loss: 0.5928 - val_accuracy: 0.6916\n",
      "Epoch 2/10\n",
      "17462/17462 - 26s - loss: 0.5381 - accuracy: 0.7329 - val_loss: 0.5353 - val_accuracy: 0.7365\n",
      "Epoch 3/10\n",
      "17462/17462 - 25s - loss: 0.4900 - accuracy: 0.7657 - val_loss: 0.4926 - val_accuracy: 0.7635\n",
      "Epoch 4/10\n",
      "17462/17462 - 25s - loss: 0.4573 - accuracy: 0.7853 - val_loss: 0.4822 - val_accuracy: 0.7702\n",
      "Epoch 5/10\n",
      "17462/17462 - 25s - loss: 0.4258 - accuracy: 0.8039 - val_loss: 0.4718 - val_accuracy: 0.7759\n",
      "Epoch 6/10\n",
      "17462/17462 - 29s - loss: 0.3994 - accuracy: 0.8149 - val_loss: 0.4641 - val_accuracy: 0.7826\n",
      "Epoch 7/10\n",
      "17462/17462 - 30s - loss: 0.3684 - accuracy: 0.8344 - val_loss: 0.5039 - val_accuracy: 0.7710\n",
      "Epoch 8/10\n",
      "17462/17462 - 26s - loss: 0.3401 - accuracy: 0.8504 - val_loss: 0.4893 - val_accuracy: 0.7811\n",
      "Epoch 9/10\n",
      "17462/17462 - 26s - loss: 0.3083 - accuracy: 0.8653 - val_loss: 0.4999 - val_accuracy: 0.7778\n",
      "Epoch 10/10\n",
      "17462/17462 - 25s - loss: 0.2792 - accuracy: 0.8795 - val_loss: 0.5143 - val_accuracy: 0.7806\n"
     ]
    }
   ],
   "source": [
    "from tensorflow.keras.models import Sequential\n",
    "from tensorflow.keras.layers import Dense, Dropout, Activation, Flatten\n",
    "from tensorflow.keras.layers import Conv2D, MaxPooling2D\n",
    "# more info on callbakcs: https://keras.io/callbacks/ model saver is cool too.\n",
    "from tensorflow.keras.callbacks import TensorBoard\n",
    "import pickle\n",
    "import time\n",
    "\n",
    "\n",
    "#https://github.com/ibab/tensorflow-wavenet/issues/255  solve directory problem\n",
    "\n",
    "NAME = \"CNNopti\"\n",
    "\n",
    "pickle_in = open(\"X.pickle\",\"rb\")\n",
    "X = pickle.load(pickle_in)\n",
    "\n",
    "pickle_in = open(\"y.pickle\",\"rb\")\n",
    "y = pickle.load(pickle_in)\n",
    "\n",
    "X = X/255.0\n",
    "\n",
    "dense_layers = [1]\n",
    "layer_sizes = [32]\n",
    "conv_layers = [2]\n",
    "\n",
    "for dense_layer in dense_layers:\n",
    "    for layer_size in layer_sizes:\n",
    "        for conv_layer in conv_layers:\n",
    "\n",
    "\n",
    "            model = Sequential()\n",
    "\n",
    "            model.add(Conv2D(layer_size, (3, 3), input_shape=X.shape[1:]))\n",
    "            model.add(Activation('relu'))\n",
    "            model.add(MaxPooling2D(pool_size=(2, 2)))\n",
    "\n",
    "            for l in range(conv_layer-1):\n",
    "                model.add(Conv2D(layer_size, (3, 3)))\n",
    "                model.add(Activation('relu'))\n",
    "                model.add(MaxPooling2D(pool_size=(2, 2)))\n",
    "\n",
    "            model.add(Flatten())\n",
    "\n",
    "            for _ in range(dense_layer):\n",
    "                model.add(Dense(layer_size))\n",
    "                model.add(Activation('relu'))\n",
    "\n",
    "            model.add(Dense(1))\n",
    "            model.add(Activation('sigmoid'))\n",
    "\n",
    "            #tensorboard = TensorBoard(log_dir=\"logs/{}\".format(NAME))\n",
    "\n",
    "            model.compile(loss='binary_crossentropy',\n",
    "                          optimizer='adam',\n",
    "                          metrics=['accuracy'],\n",
    "                          )\n",
    "\n",
    "            model.fit(X, y,\n",
    "                      batch_size=32,\n",
    "                      epochs=10,\n",
    "                      validation_split=0.3,\n",
    "                      verbose = 2,\n",
    "                      callbacks = [tf.keras.callbacks.TensorBoard(log_dir=\"logs\\{}\".format(NAME), histogram_freq=1, profile_batch = 100000000)])"
   ]
  },
  {
   "cell_type": "markdown",
   "metadata": {},
   "source": [
    "As usual, we save our best model with pickle."
   ]
  },
  {
   "cell_type": "code",
   "execution_count": 33,
   "metadata": {},
   "outputs": [
    {
     "name": "stdout",
     "output_type": "stream",
     "text": [
      "INFO:tensorflow:Assets written to: CNNopti.model\\assets\n"
     ]
    }
   ],
   "source": [
    "model.save('CNNopti.model')"
   ]
  },
  {
   "cell_type": "markdown",
   "metadata": {},
   "source": [
    "So now, let's see how our model predict well !"
   ]
  },
  {
   "cell_type": "markdown",
   "metadata": {},
   "source": [
    "<a id=\"6\"></a> <br>\n",
    "## 6. Make predictions with our model"
   ]
  },
  {
   "cell_type": "markdown",
   "metadata": {},
   "source": [
    "First, we some images. I am going to use a couple of images that I know to be unique.\n",
    "You can also go to google images and grab some there too. That said, there's a high chance the images from google images are contained in the dataset we used, so, if you have some unique ones, use those.\n",
    "\n",
    "What were the things we did to our training images? We grayscaled, resized, and reshaped. Let's create a function that does all of that."
   ]
  },
  {
   "cell_type": "code",
   "execution_count": 19,
   "metadata": {},
   "outputs": [],
   "source": [
    "import tensorflow as tf\n",
    "\n",
    "CATEGORIES = [\"Dog\", \"Cat\"]  # will use this to convert prediction num to string value\n",
    "\n",
    "\n",
    "def prepare(filepath):\n",
    "    IMG_SIZE = 50\n",
    "    img_array = cv2.imread(filepath, cv2.IMREAD_GRAYSCALE)\n",
    "    img_array = img_array/255.0\n",
    "    new_array = cv2.resize(img_array, (IMG_SIZE, IMG_SIZE))\n",
    "    return new_array.reshape(-1, IMG_SIZE, IMG_SIZE, 1)"
   ]
  },
  {
   "cell_type": "markdown",
   "metadata": {},
   "source": [
    "Next, we want to load our model :"
   ]
  },
  {
   "cell_type": "code",
   "execution_count": 44,
   "metadata": {},
   "outputs": [],
   "source": [
    "model = tf.keras.models.load_model(\"CNNopti.model\")"
   ]
  },
  {
   "cell_type": "markdown",
   "metadata": {},
   "source": [
    "Now, we can make our prediction !"
   ]
  },
  {
   "cell_type": "code",
   "execution_count": 45,
   "metadata": {},
   "outputs": [
    {
     "name": "stdout",
     "output_type": "stream",
     "text": [
      "Dog\n"
     ]
    }
   ],
   "source": [
    "prediction = model.predict([prepare('dog.jpg')])  \n",
    "print(CATEGORIES[int(prediction[0][0])])"
   ]
  },
  {
   "cell_type": "markdown",
   "metadata": {},
   "source": [
    "<a id=\"7\"></a> <br>\n",
    "## 7. Conclusion"
   ]
  },
  {
   "cell_type": "markdown",
   "metadata": {},
   "source": [
    "There you have how to use your model to predict new samples.\n",
    "\n",
    "So this is the end of my little tutorial on how to use TensorBoard, I hope you found it useful and learn some nice things.\n",
    "\n",
    "I would thanks Sentdex for those beautiful videos on TensorFlow and TensorBoard. If this tutorial was established, thanks to him.\n",
    "\n",
    "I would highly recommend to anyone who's into Data Science with Python to check out his youtube channel, he's awesome and wholesome. \n",
    "\n",
    "https://www.youtube.com/channel/UCfzlCWGWYyIQ0aLC5w48gBQ\n",
    "\n",
    "Have a nice day."
   ]
  },
  {
   "cell_type": "code",
   "execution_count": null,
   "metadata": {},
   "outputs": [],
   "source": []
  }
 ],
 "metadata": {
  "kernelspec": {
   "display_name": "Python 3",
   "language": "python",
   "name": "python3"
  },
  "language_info": {
   "codemirror_mode": {
    "name": "ipython",
    "version": 3
   },
   "file_extension": ".py",
   "mimetype": "text/x-python",
   "name": "python",
   "nbconvert_exporter": "python",
   "pygments_lexer": "ipython3",
   "version": "3.6.8"
  }
 },
 "nbformat": 4,
 "nbformat_minor": 2
}
